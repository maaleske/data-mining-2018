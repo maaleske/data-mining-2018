{
 "cells": [
  {
   "cell_type": "markdown",
   "metadata": {},
   "source": [
    "## Types of data mining\n",
    "\n",
    "- Classification\n",
    "    * Prediction of categorical variables (species)\n",
    "    \n",
    "- Regression\n",
    "    * Prediction of continuous variables (temperature, moisture, etc.)\n",
    "\n",
    "- Clustering\n",
    "    * Used to find related subgroups of data when the categories are not known beforehand.\n",
    "\n",
    "- Anomaly detection\n",
    "    * Automated detection of outliers from the data\n",
    "\n",
    "\n",
    "[Flowchart for machine learning](http://scikit-learn.org/stable/tutorial/machine_learning_map/index.html)"
   ]
  }
 ],
 "metadata": {
  "kernelspec": {
   "display_name": "Python 3",
   "language": "python",
   "name": "python3"
  },
  "language_info": {
   "codemirror_mode": {
    "name": "ipython",
    "version": 3
   },
   "file_extension": ".py",
   "mimetype": "text/x-python",
   "name": "python",
   "nbconvert_exporter": "python",
   "pygments_lexer": "ipython3",
   "version": "3.6.4"
  }
 },
 "nbformat": 4,
 "nbformat_minor": 2
}
