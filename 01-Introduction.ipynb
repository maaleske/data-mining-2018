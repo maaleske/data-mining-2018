{
 "cells": [
  {
   "cell_type": "markdown",
   "metadata": {},
   "source": [
    "# Principles of data mining"
   ]
  },
  {
   "cell_type": "markdown",
   "metadata": {},
   "source": [
    "## What is it?\n",
    "\n",
    "[Merriam-Webster](https://www.merriam-webster.com/dictionary/data%20mining):\n",
    "\n",
    ">**Data mining**\n",
    ">\n",
    ">*\"the practice of searching through large amounts of computerized data to find useful patterns or trends\"*\n",
    ">\n",
    ">**First known use: 1968**\n",
    "\n",
    "(another word from the same year is \"error bar\", coincidence?)\n",
    "\n",
    "## Differences vs. statistical modeling\n",
    "\n",
    "- Focus on emprirical/exploratory research for a priori unknown relationships in the data\n",
    "- Usually automated through machine learning\n",
    "- Complex relationships and large numbers of variables are easier to model\n",
    "\n",
    "### Terminology\n",
    "\n",
    "- *Variable* (also *feature*)\n",
    "    * \"table column\"\n",
    "    * Can be continuous (e.g. temperature) or categorical (e.g. species).\n",
    "- *Sample*\n",
    "    * \"table row\"\n",
    "    * A single measurement of one or more variables\n",
    "- *Model*\n",
    "    * A predictor for a variable given the other variables"
   ]
  },
  {
   "cell_type": "markdown",
   "metadata": {},
   "source": [
    "## Types of data mining\n",
    "\n",
    "- Classification\n",
    "    * Prediction of categorical variables (species)\n",
    "    \n",
    "- Regression\n",
    "    * Prediction of continuous variables (temperature, moisture, etc.)\n",
    "\n",
    "- Clustering\n",
    "    * Used to find related subgroups of data when the categories are not known beforehand. \n",
    "    * [Examples](./cluster_comparison.png)\n",
    "\n",
    "- Anomaly detection\n",
    "    * Automated detection of outliers from the data\n",
    "\n",
    "\n",
    "[Flowchart for machine learning](http://scikit-learn.org/stable/tutorial/machine_learning_map/index.html)"
   ]
  },
  {
   "cell_type": "markdown",
   "metadata": {},
   "source": [
    "# Example: Looking at the data"
   ]
  },
  {
   "cell_type": "markdown",
   "metadata": {},
   "source": [
    "### Show, don't tell\n",
    "\n",
    "This lecture note material is in a Jupyter notebook, which lets us not only write text, but also runs (here, [Python](https://python.org)) code and shows the results:"
   ]
  },
  {
   "cell_type": "code",
   "execution_count": null,
   "metadata": {},
   "outputs": [],
   "source": [
    "# Code here\n",
    "print('Result here')"
   ]
  },
  {
   "cell_type": "markdown",
   "metadata": {},
   "source": [
    "#### Doing it yourself\n",
    "If you are familiar with Jupyter notebooks and want to run this notebook yourself, take a look at the [readme](./README.md) for instructions."
   ]
  },
  {
   "cell_type": "markdown",
   "metadata": {},
   "source": [
    "First we'll have to read the data. This is a dataset from lake Windermere from the [Center of Ecology and Hydrology](https://eip.ceh.ac.uk/datais). The data is formatted in a few columns as such:\n",
    "```\n",
    "sdate,variable,value,sign_if_LT_LOD\n",
    "02-Jan-47,TEMP,5.6,\n",
    "08-Jan-47,TEMP,5.1,\n",
    "13-Jan-47,TEMP,4.95,\n",
    "20-Jan-47,TEMP,5.1,\n",
    "27-Jan-47,TEMP,4.6,\n",
    "03-Feb-47,TEMP,4,\n",
    "10-Feb-47,TEMP,3.4,\n",
    "18-Feb-47,TEMP,2.8,\n",
    "24-Feb-47,TEMP,1.6,\n",
    "...\n",
    "```"
   ]
  },
  {
   "cell_type": "markdown",
   "metadata": {},
   "source": [
    "We'll use a library called [Pandas](https://pandas.pydata.org) which has a lot of useful tooling for manipulating tabular data (Similar to R). It has a function `read_csv` to easily read .csv format.\n",
    "We'll also remove the last column for this example, since it is not needed."
   ]
  },
  {
   "cell_type": "code",
   "execution_count": null,
   "metadata": {},
   "outputs": [],
   "source": [
    "import pandas as pd\n",
    "data = pd.read_csv('Windermere_NBAS_data_1945_2013.txt', parse_dates=True, index_col=0)\n",
    "data = data.drop(columns='sign_if_LT_LOD')"
   ]
  },
  {
   "cell_type": "markdown",
   "metadata": {},
   "source": [
    "The data has multiple variables that have been measured at certain dates. Let's see what's there:"
   ]
  },
  {
   "cell_type": "code",
   "execution_count": null,
   "metadata": {
    "scrolled": true
   },
   "outputs": [],
   "source": [
    "data.groupby('variable').describe()"
   ]
  },
  {
   "cell_type": "markdown",
   "metadata": {},
   "source": [
    "It would be nicer if each measured variable was a column by itself. We can use `pivot_table` to do just that:"
   ]
  },
  {
   "cell_type": "code",
   "execution_count": null,
   "metadata": {},
   "outputs": [],
   "source": [
    "data = data.pivot_table(index='sdate', columns='variable', values='value')\n",
    "data.head()"
   ]
  },
  {
   "cell_type": "markdown",
   "metadata": {},
   "source": [
    "Now we can easily study the correlations of different variables:"
   ]
  },
  {
   "cell_type": "code",
   "execution_count": null,
   "metadata": {},
   "outputs": [],
   "source": [
    "data.corr()"
   ]
  },
  {
   "cell_type": "markdown",
   "metadata": {},
   "source": [
    "The same, but in color:"
   ]
  },
  {
   "cell_type": "code",
   "execution_count": null,
   "metadata": {},
   "outputs": [],
   "source": [
    "%matplotlib notebook\n",
    "\n",
    "import matplotlib.pyplot as plt\n",
    "plt.matshow(data.corr())\n",
    "plt.colorbar()"
   ]
  },
  {
   "cell_type": "markdown",
   "metadata": {},
   "source": [
    "Let's try something a bit more involved and try to determine a temperature trend. Since the date frequency is not quite constant, let's just look at the biannual means for now."
   ]
  },
  {
   "cell_type": "code",
   "execution_count": null,
   "metadata": {},
   "outputs": [],
   "source": [
    "biannual = data.resample('6M').mean()\n",
    "biannual.head()"
   ]
  },
  {
   "cell_type": "markdown",
   "metadata": {},
   "source": [
    "Now let us fit a line to these mean values. We'll use `polyfit` from the `numpy` package (used for almost anything numerical in Python)."
   ]
  },
  {
   "cell_type": "code",
   "execution_count": null,
   "metadata": {},
   "outputs": [],
   "source": [
    "import numpy as np\n",
    "\n",
    "# Our target to fit, needs \n",
    "y = biannual['TEMP'].values[~np.isnan(biannual['TEMP'].values)]\n",
    "\n",
    "# We don't need the actual dates, a numbering will be enough (since it should)\n",
    "X = np.arange(0, len(y))\n",
    "\n",
    "model = np.polyfit(X, y, 1)\n",
    "model"
   ]
  },
  {
   "cell_type": "markdown",
   "metadata": {},
   "source": [
    "It's showing a very slight downward trend. Let's plot it and see it with the actual data:"
   ]
  },
  {
   "cell_type": "code",
   "execution_count": null,
   "metadata": {},
   "outputs": [],
   "source": [
    "%matplotlib notebook\n",
    "plt.plot(X, y, X, model[1] + model[0] * X)"
   ]
  },
  {
   "cell_type": "markdown",
   "metadata": {},
   "source": [
    "We could've also plotted the original data. Let's do that now:"
   ]
  },
  {
   "cell_type": "code",
   "execution_count": null,
   "metadata": {},
   "outputs": [],
   "source": [
    "data.plot()"
   ]
  },
  {
   "cell_type": "markdown",
   "metadata": {},
   "source": [
    "Lesson 1: **Really** look at your data!\n",
    "\n",
    "Here's a better example why the statistics won't help you either:\n",
    "\n",
    "[The datasaur dozen](https://dabblingwithdata.wordpress.com/2017/05/03/the-datasaurus-a-monstrous-anscombe-for-the-21st-century/)"
   ]
  },
  {
   "cell_type": "markdown",
   "metadata": {},
   "source": [
    "\n",
    "### [Continue after the break...](./02-Outro.ipynb)"
   ]
  },
  {
   "cell_type": "code",
   "execution_count": null,
   "metadata": {},
   "outputs": [],
   "source": []
  }
 ],
 "metadata": {
  "kernelspec": {
   "display_name": "Python 3",
   "language": "python",
   "name": "python3"
  },
  "language_info": {
   "codemirror_mode": {
    "name": "ipython",
    "version": 3
   },
   "file_extension": ".py",
   "mimetype": "text/x-python",
   "name": "python",
   "nbconvert_exporter": "python",
   "pygments_lexer": "ipython3",
   "version": "3.6.4"
  }
 },
 "nbformat": 4,
 "nbformat_minor": 2
}
