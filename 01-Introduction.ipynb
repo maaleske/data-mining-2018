{
 "cells": [
  {
   "cell_type": "code",
   "execution_count": null,
   "metadata": {},
   "outputs": [],
   "source": [
    "# Principles of data mining"
   ]
  },
  {
   "cell_type": "markdown",
   "metadata": {},
   "source": [
    "## What is it?\n",
    "\n",
    "[Merriam-Webster](https://www.merriam-webster.com/dictionary/data%20mining):\n",
    "\n",
    ">**Data mining**\n",
    ">\n",
    ">*\"the practice of searching through large amounts of computerized data to find useful patterns or trends\"*\n",
    ">\n",
    ">**First known use: 1968**\n",
    "\n",
    "(another word from the same year is \"error bar\", coincidence?)\n",
    "\n",
    "### Terminology\n",
    "\n",
    "- Variable\n",
    "    * \"table column\"\n",
    "    * Measured quantity (e.g. temperature)\n",
    "- Sample\n",
    "    * \"table row\"\n",
    "    * A single measurement of one or more variables\n",
    "- Model\n",
    "    * A predictor for a variable given the other variables"
   ]
  },
  {
   "cell_type": "markdown",
   "metadata": {},
   "source": [
    "### Show, don't tell\n",
    "Looking at an example is the easiest way to get an idea what we're talking about, and the best example of data mining is doing the calculations and looking at the results.\n",
    "\n",
    "This lecture note material is in a Jupyter notebook, which lets us not only write text, but also runs (here, [Python](https://python.org)) code and shows the results:"
   ]
  },
  {
   "cell_type": "code",
   "execution_count": 1,
   "metadata": {},
   "outputs": [
    {
     "name": "stdout",
     "output_type": "stream",
     "text": [
      "Result here\n"
     ]
    }
   ],
   "source": [
    "# Code here\n",
    "print('Result here')"
   ]
  },
  {
   "cell_type": "markdown",
   "metadata": {},
   "source": [
    "#### Doing it yourself\n",
    "If you are familiar with Jupyter notebooks and want to run this notebook yourself, take a look at the [readme](./README.md) for instructions."
   ]
  },
  {
   "cell_type": "markdown",
   "metadata": {},
   "source": [
    "## Example: Looking at the data"
   ]
  },
  {
   "cell_type": "markdown",
   "metadata": {},
   "source": [
    "We'll use a library called [Pandas](https://pandas.pydata.org) which has a lot of useful tooling for manipulating tabular data. (Similar to R)"
   ]
  },
  {
   "cell_type": "code",
   "execution_count": 5,
   "metadata": {},
   "outputs": [],
   "source": [
    "import pandas as pd"
   ]
  },
  {
   "cell_type": "markdown",
   "metadata": {},
   "source": [
    "First we'll have to read the data. This is a dataset from lake Windermere"
   ]
  },
  {
   "cell_type": "code",
   "execution_count": 108,
   "metadata": {},
   "outputs": [
    {
     "data": {
      "text/html": [
       "<div>\n",
       "<style scoped>\n",
       "    .dataframe tbody tr th:only-of-type {\n",
       "        vertical-align: middle;\n",
       "    }\n",
       "\n",
       "    .dataframe tbody tr th {\n",
       "        vertical-align: top;\n",
       "    }\n",
       "\n",
       "    .dataframe thead th {\n",
       "        text-align: right;\n",
       "    }\n",
       "</style>\n",
       "<table border=\"1\" class=\"dataframe\">\n",
       "  <thead>\n",
       "    <tr style=\"text-align: right;\">\n",
       "      <th></th>\n",
       "      <th>variable</th>\n",
       "      <th>value</th>\n",
       "      <th>sign_if_LT_LOD</th>\n",
       "    </tr>\n",
       "    <tr>\n",
       "      <th>sdate</th>\n",
       "      <th></th>\n",
       "      <th></th>\n",
       "      <th></th>\n",
       "    </tr>\n",
       "  </thead>\n",
       "  <tbody>\n",
       "    <tr>\n",
       "      <th>2047-01-02</th>\n",
       "      <td>TEMP</td>\n",
       "      <td>5.60</td>\n",
       "      <td>NaN</td>\n",
       "    </tr>\n",
       "    <tr>\n",
       "      <th>2047-01-08</th>\n",
       "      <td>TEMP</td>\n",
       "      <td>5.10</td>\n",
       "      <td>NaN</td>\n",
       "    </tr>\n",
       "    <tr>\n",
       "      <th>2047-01-13</th>\n",
       "      <td>TEMP</td>\n",
       "      <td>4.95</td>\n",
       "      <td>NaN</td>\n",
       "    </tr>\n",
       "    <tr>\n",
       "      <th>2047-01-20</th>\n",
       "      <td>TEMP</td>\n",
       "      <td>5.10</td>\n",
       "      <td>NaN</td>\n",
       "    </tr>\n",
       "    <tr>\n",
       "      <th>2047-01-27</th>\n",
       "      <td>TEMP</td>\n",
       "      <td>4.60</td>\n",
       "      <td>NaN</td>\n",
       "    </tr>\n",
       "  </tbody>\n",
       "</table>\n",
       "</div>"
      ],
      "text/plain": [
       "           variable  value sign_if_LT_LOD\n",
       "sdate                                    \n",
       "2047-01-02     TEMP   5.60            NaN\n",
       "2047-01-08     TEMP   5.10            NaN\n",
       "2047-01-13     TEMP   4.95            NaN\n",
       "2047-01-20     TEMP   5.10            NaN\n",
       "2047-01-27     TEMP   4.60            NaN"
      ]
     },
     "execution_count": 108,
     "metadata": {},
     "output_type": "execute_result"
    }
   ],
   "source": [
    "data = pd.read_csv('Windermere_NBAS_data_1945_2013.txt', parse_dates=True, index_col=0, )\n",
    "data.tail()"
   ]
  },
  {
   "cell_type": "markdown",
   "metadata": {},
   "source": [
    "The data has multiple variables that have been measured at certain dates. Let's see what's there:"
   ]
  },
  {
   "cell_type": "code",
   "execution_count": 36,
   "metadata": {},
   "outputs": [
    {
     "data": {
      "text/plain": [
       "array(['TEMP', 'OXYG', 'PO4P', 'ALKA', 'NO3N', 'SIO2', 'TOTP', 'NH4N',\n",
       "       'TOCA', 'PH  ', 'SECC'], dtype=object)"
      ]
     },
     "execution_count": 36,
     "metadata": {},
     "output_type": "execute_result"
    }
   ],
   "source": [
    "pd.unique(data.variable)"
   ]
  },
  {
   "cell_type": "markdown",
   "metadata": {},
   "source": [
    "Let's take a look at the variables:"
   ]
  },
  {
   "cell_type": "code",
   "execution_count": 109,
   "metadata": {},
   "outputs": [
    {
     "data": {
      "text/html": [
       "<div>\n",
       "<style scoped>\n",
       "    .dataframe tbody tr th:only-of-type {\n",
       "        vertical-align: middle;\n",
       "    }\n",
       "\n",
       "    .dataframe tbody tr th {\n",
       "        vertical-align: top;\n",
       "    }\n",
       "\n",
       "    .dataframe thead tr th {\n",
       "        text-align: left;\n",
       "    }\n",
       "\n",
       "    .dataframe thead tr:last-of-type th {\n",
       "        text-align: right;\n",
       "    }\n",
       "</style>\n",
       "<table border=\"1\" class=\"dataframe\">\n",
       "  <thead>\n",
       "    <tr>\n",
       "      <th></th>\n",
       "      <th colspan=\"8\" halign=\"left\">value</th>\n",
       "    </tr>\n",
       "    <tr>\n",
       "      <th></th>\n",
       "      <th>count</th>\n",
       "      <th>mean</th>\n",
       "      <th>std</th>\n",
       "      <th>min</th>\n",
       "      <th>25%</th>\n",
       "      <th>50%</th>\n",
       "      <th>75%</th>\n",
       "      <th>max</th>\n",
       "    </tr>\n",
       "    <tr>\n",
       "      <th>variable</th>\n",
       "      <th></th>\n",
       "      <th></th>\n",
       "      <th></th>\n",
       "      <th></th>\n",
       "      <th></th>\n",
       "      <th></th>\n",
       "      <th></th>\n",
       "      <th></th>\n",
       "    </tr>\n",
       "  </thead>\n",
       "  <tbody>\n",
       "    <tr>\n",
       "      <th>ALKA</th>\n",
       "      <td>1804.0</td>\n",
       "      <td>10132.061530</td>\n",
       "      <td>2007.322631</td>\n",
       "      <td>6100.00</td>\n",
       "      <td>8600.000</td>\n",
       "      <td>10000.000</td>\n",
       "      <td>11500.00</td>\n",
       "      <td>17000.00</td>\n",
       "    </tr>\n",
       "    <tr>\n",
       "      <th>NH4N</th>\n",
       "      <td>1546.0</td>\n",
       "      <td>9.319599</td>\n",
       "      <td>8.372265</td>\n",
       "      <td>0.00</td>\n",
       "      <td>5.000</td>\n",
       "      <td>5.000</td>\n",
       "      <td>12.00</td>\n",
       "      <td>125.00</td>\n",
       "    </tr>\n",
       "    <tr>\n",
       "      <th>NO3N</th>\n",
       "      <td>2736.0</td>\n",
       "      <td>323.472953</td>\n",
       "      <td>145.980099</td>\n",
       "      <td>8.00</td>\n",
       "      <td>220.000</td>\n",
       "      <td>300.000</td>\n",
       "      <td>417.00</td>\n",
       "      <td>1196.00</td>\n",
       "    </tr>\n",
       "    <tr>\n",
       "      <th>OXYG</th>\n",
       "      <td>3242.0</td>\n",
       "      <td>97.804226</td>\n",
       "      <td>10.454674</td>\n",
       "      <td>61.00</td>\n",
       "      <td>90.400</td>\n",
       "      <td>98.000</td>\n",
       "      <td>105.00</td>\n",
       "      <td>134.30</td>\n",
       "    </tr>\n",
       "    <tr>\n",
       "      <th>PH</th>\n",
       "      <td>987.0</td>\n",
       "      <td>7.245064</td>\n",
       "      <td>0.422140</td>\n",
       "      <td>6.38</td>\n",
       "      <td>7.000</td>\n",
       "      <td>7.170</td>\n",
       "      <td>7.37</td>\n",
       "      <td>9.66</td>\n",
       "    </tr>\n",
       "    <tr>\n",
       "      <th>PO4P</th>\n",
       "      <td>2511.0</td>\n",
       "      <td>2.170315</td>\n",
       "      <td>2.905830</td>\n",
       "      <td>0.10</td>\n",
       "      <td>0.600</td>\n",
       "      <td>1.000</td>\n",
       "      <td>3.00</td>\n",
       "      <td>66.30</td>\n",
       "    </tr>\n",
       "    <tr>\n",
       "      <th>SECC</th>\n",
       "      <td>772.0</td>\n",
       "      <td>4.423316</td>\n",
       "      <td>1.092187</td>\n",
       "      <td>1.60</td>\n",
       "      <td>3.600</td>\n",
       "      <td>4.300</td>\n",
       "      <td>5.10</td>\n",
       "      <td>9.60</td>\n",
       "    </tr>\n",
       "    <tr>\n",
       "      <th>SIO2</th>\n",
       "      <td>2771.0</td>\n",
       "      <td>1062.488271</td>\n",
       "      <td>656.177240</td>\n",
       "      <td>-44.00</td>\n",
       "      <td>440.000</td>\n",
       "      <td>1100.000</td>\n",
       "      <td>1680.00</td>\n",
       "      <td>2700.00</td>\n",
       "    </tr>\n",
       "    <tr>\n",
       "      <th>TEMP</th>\n",
       "      <td>5472.0</td>\n",
       "      <td>10.825303</td>\n",
       "      <td>4.990691</td>\n",
       "      <td>0.60</td>\n",
       "      <td>6.215</td>\n",
       "      <td>10.300</td>\n",
       "      <td>15.30</td>\n",
       "      <td>23.70</td>\n",
       "    </tr>\n",
       "    <tr>\n",
       "      <th>TOCA</th>\n",
       "      <td>1860.0</td>\n",
       "      <td>5.564737</td>\n",
       "      <td>4.477227</td>\n",
       "      <td>0.29</td>\n",
       "      <td>1.650</td>\n",
       "      <td>4.735</td>\n",
       "      <td>8.06</td>\n",
       "      <td>28.76</td>\n",
       "    </tr>\n",
       "    <tr>\n",
       "      <th>TOTP</th>\n",
       "      <td>1577.0</td>\n",
       "      <td>13.410219</td>\n",
       "      <td>4.420519</td>\n",
       "      <td>3.30</td>\n",
       "      <td>11.000</td>\n",
       "      <td>13.000</td>\n",
       "      <td>15.20</td>\n",
       "      <td>55.00</td>\n",
       "    </tr>\n",
       "  </tbody>\n",
       "</table>\n",
       "</div>"
      ],
      "text/plain": [
       "           value                                                           \\\n",
       "           count          mean          std      min       25%        50%   \n",
       "variable                                                                    \n",
       "ALKA      1804.0  10132.061530  2007.322631  6100.00  8600.000  10000.000   \n",
       "NH4N      1546.0      9.319599     8.372265     0.00     5.000      5.000   \n",
       "NO3N      2736.0    323.472953   145.980099     8.00   220.000    300.000   \n",
       "OXYG      3242.0     97.804226    10.454674    61.00    90.400     98.000   \n",
       "PH         987.0      7.245064     0.422140     6.38     7.000      7.170   \n",
       "PO4P      2511.0      2.170315     2.905830     0.10     0.600      1.000   \n",
       "SECC       772.0      4.423316     1.092187     1.60     3.600      4.300   \n",
       "SIO2      2771.0   1062.488271   656.177240   -44.00   440.000   1100.000   \n",
       "TEMP      5472.0     10.825303     4.990691     0.60     6.215     10.300   \n",
       "TOCA      1860.0      5.564737     4.477227     0.29     1.650      4.735   \n",
       "TOTP      1577.0     13.410219     4.420519     3.30    11.000     13.000   \n",
       "\n",
       "                              \n",
       "               75%       max  \n",
       "variable                      \n",
       "ALKA      11500.00  17000.00  \n",
       "NH4N         12.00    125.00  \n",
       "NO3N        417.00   1196.00  \n",
       "OXYG        105.00    134.30  \n",
       "PH            7.37      9.66  \n",
       "PO4P          3.00     66.30  \n",
       "SECC          5.10      9.60  \n",
       "SIO2       1680.00   2700.00  \n",
       "TEMP         15.30     23.70  \n",
       "TOCA          8.06     28.76  \n",
       "TOTP         15.20     55.00  "
      ]
     },
     "execution_count": 109,
     "metadata": {},
     "output_type": "execute_result"
    }
   ],
   "source": [
    "data.groupby('variable').describe()"
   ]
  },
  {
   "cell_type": "code",
   "execution_count": 146,
   "metadata": {},
   "outputs": [
    {
     "data": {
      "text/html": [
       "<div>\n",
       "<style scoped>\n",
       "    .dataframe tbody tr th:only-of-type {\n",
       "        vertical-align: middle;\n",
       "    }\n",
       "\n",
       "    .dataframe tbody tr th {\n",
       "        vertical-align: top;\n",
       "    }\n",
       "\n",
       "    .dataframe thead th {\n",
       "        text-align: right;\n",
       "    }\n",
       "</style>\n",
       "<table border=\"1\" class=\"dataframe\">\n",
       "  <thead>\n",
       "    <tr style=\"text-align: right;\">\n",
       "      <th></th>\n",
       "      <th>value</th>\n",
       "      <th>sign_if_LT_LOD</th>\n",
       "    </tr>\n",
       "    <tr>\n",
       "      <th>sdate</th>\n",
       "      <th></th>\n",
       "      <th></th>\n",
       "    </tr>\n",
       "  </thead>\n",
       "  <tbody>\n",
       "    <tr>\n",
       "      <th>2013-10-15</th>\n",
       "      <td>12.3</td>\n",
       "      <td>NaN</td>\n",
       "    </tr>\n",
       "    <tr>\n",
       "      <th>2013-10-29</th>\n",
       "      <td>11.6</td>\n",
       "      <td>NaN</td>\n",
       "    </tr>\n",
       "    <tr>\n",
       "      <th>2013-11-12</th>\n",
       "      <td>9.5</td>\n",
       "      <td>NaN</td>\n",
       "    </tr>\n",
       "    <tr>\n",
       "      <th>2013-11-26</th>\n",
       "      <td>7.5</td>\n",
       "      <td>NaN</td>\n",
       "    </tr>\n",
       "    <tr>\n",
       "      <th>2013-12-10</th>\n",
       "      <td>7.1</td>\n",
       "      <td>NaN</td>\n",
       "    </tr>\n",
       "  </tbody>\n",
       "</table>\n",
       "</div>"
      ],
      "text/plain": [
       "            value sign_if_LT_LOD\n",
       "sdate                           \n",
       "2013-10-15   12.3            NaN\n",
       "2013-10-29   11.6            NaN\n",
       "2013-11-12    9.5            NaN\n",
       "2013-11-26    7.5            NaN\n",
       "2013-12-10    7.1            NaN"
      ]
     },
     "execution_count": 146,
     "metadata": {},
     "output_type": "execute_result"
    }
   ],
   "source": [
    "temps = data[data.variable == 'TEMP']\n",
    "temps = temps.drop(columns='variable')\n",
    "temps.tail()"
   ]
  },
  {
   "cell_type": "code",
   "execution_count": 152,
   "metadata": {},
   "outputs": [
    {
     "data": {
      "text/html": [
       "<div>\n",
       "<style scoped>\n",
       "    .dataframe tbody tr th:only-of-type {\n",
       "        vertical-align: middle;\n",
       "    }\n",
       "\n",
       "    .dataframe tbody tr th {\n",
       "        vertical-align: top;\n",
       "    }\n",
       "\n",
       "    .dataframe thead th {\n",
       "        text-align: right;\n",
       "    }\n",
       "</style>\n",
       "<table border=\"1\" class=\"dataframe\">\n",
       "  <thead>\n",
       "    <tr style=\"text-align: right;\">\n",
       "      <th></th>\n",
       "      <th>value</th>\n",
       "    </tr>\n",
       "    <tr>\n",
       "      <th>sdate</th>\n",
       "      <th></th>\n",
       "    </tr>\n",
       "  </thead>\n",
       "  <tbody>\n",
       "    <tr>\n",
       "      <th>1968-01-31</th>\n",
       "      <td>5.2000</td>\n",
       "    </tr>\n",
       "    <tr>\n",
       "      <th>1968-02-29</th>\n",
       "      <td>4.1875</td>\n",
       "    </tr>\n",
       "    <tr>\n",
       "      <th>1968-03-31</th>\n",
       "      <td>4.5375</td>\n",
       "    </tr>\n",
       "    <tr>\n",
       "      <th>1968-04-30</th>\n",
       "      <td>7.3200</td>\n",
       "    </tr>\n",
       "    <tr>\n",
       "      <th>1968-05-31</th>\n",
       "      <td>10.2000</td>\n",
       "    </tr>\n",
       "  </tbody>\n",
       "</table>\n",
       "</div>"
      ],
      "text/plain": [
       "              value\n",
       "sdate              \n",
       "1968-01-31   5.2000\n",
       "1968-02-29   4.1875\n",
       "1968-03-31   4.5375\n",
       "1968-04-30   7.3200\n",
       "1968-05-31  10.2000"
      ]
     },
     "execution_count": 152,
     "metadata": {},
     "output_type": "execute_result"
    }
   ],
   "source": [
    "temps.resample('1M').mean().head()"
   ]
  },
  {
   "cell_type": "code",
   "execution_count": 106,
   "metadata": {},
   "outputs": [
    {
     "data": {
      "text/plain": [
       "<matplotlib.axes._subplots.AxesSubplot at 0x7fe7f0614898>"
      ]
     },
     "execution_count": 106,
     "metadata": {},
     "output_type": "execute_result"
    },
    {
     "data": {
      "image/png": "[encoded data removed]",
      "text/plain": [
       "<matplotlib.figure.Figure at 0x7fe7f113f780>"
      ]
     },
     "metadata": {},
     "output_type": "display_data"
    }
   ],
   "source": [
    "temps.plot()"
   ]
  },
  {
   "cell_type": "markdown",
   "metadata": {},
   "source": [
    "Lesson 1: **Really** look at your data!\n",
    "\n",
    "Peering at the statistics won't help you:\n",
    "[The datasaur dozen](https://dabblingwithdata.wordpress.com/2017/05/03/the-datasaurus-a-monstrous-anscombe-for-the-21st-century/)"
   ]
  },
  {
   "cell_type": "markdown",
   "metadata": {},
   "source": [
    "### Next: [Model validation](./02-validation.ipynb)"
   ]
  }
 ],
 "metadata": {
  "kernelspec": {
   "display_name": "Python 3",
   "language": "python",
   "name": "python3"
  },
  "language_info": {
   "codemirror_mode": {
    "name": "ipython",
    "version": 3
   },
   "file_extension": ".py",
   "mimetype": "text/x-python",
   "name": "python",
   "nbconvert_exporter": "python",
   "pygments_lexer": "ipython3",
   "version": "3.6.4"
  }
 },
 "nbformat": 4,
 "nbformat_minor": 2
}
