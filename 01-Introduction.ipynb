{
 "cells": [
  {
   "cell_type": "markdown",
   "metadata": {},
   "source": [
    "# Introduction to data mining"
   ]
  },
  {
   "cell_type": "markdown",
   "metadata": {},
   "source": [
    "## What is it?\n",
    "\n",
    "[Merriam-Webster](https://www.merriam-webster.com/dictionary/data%20mining):\n",
    "\n",
    ">**Data mining**\n",
    ">\n",
    ">*\"the practice of searching through large amounts of computerized data to find useful patterns or trends\"*\n",
    ">\n",
    ">**First known use: 1968**\n",
    "\n",
    "(another word from the same year is \"error bar\", coincidence?)\n",
    "\n",
    "## Types of data mining\n",
    "\n",
    "- Clustering\n",
    "- Anomaly detection\n",
    "- Classification\n",
    "- Regression"
   ]
  }
 ],
 "metadata": {
  "kernelspec": {
   "display_name": "Python 3",
   "language": "python",
   "name": "python3"
  },
  "language_info": {
   "codemirror_mode": {
    "name": "ipython",
    "version": 3
   },
   "file_extension": ".py",
   "mimetype": "text/x-python",
   "name": "python",
   "nbconvert_exporter": "python",
   "pygments_lexer": "ipython3",
   "version": "3.6.4"
  }
 },
 "nbformat": 4,
 "nbformat_minor": 2
}
