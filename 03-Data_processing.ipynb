{
 "cells": [
  {
   "cell_type": "markdown",
   "metadata": {},
   "source": [
    "# Data processing"
   ]
  },
  {
   "cell_type": "markdown",
   "metadata": {},
   "source": [
    "## Parsing\n",
    "\n",
    "Data tends to come in many formats (both syntax and file formats), which all have their idiosyncracies. Some common pitfalls to look out for:\n",
    "\n",
    "- Date formats (DD/MM/YY vs MM/DD/YY vs YYYY/MM/DD vs ...)\n",
    "- Comma vs. period as decimal separator\n",
    "- Non-latin characters\n",
    "- Alphabetic ordering (or lack of it)\n",
    "- Automatic parsing to the wrong type. Can and will result in hard-to-debug arithmetic errors, when e.g. dates are interpreted as values or vice versa (Excel has been infamous for this: 2018-02-16 = 2000)\n",
    "\n",
    "## Missing values\n",
    "\n",
    "Samples do not always contain all the variables. In the case of the previous Windermere dataset, if we were to consider each day a separate sample, not all variables would have been measured for each day.\n",
    "\n",
    "\n",
    "## Scaling\n",
    "\n",
    "Many machine learning methods expect data to be in certain ranges, or do not function well with dissimilar ranges of different variables.\n",
    "\n",
    "## Sampling\n"
   ]
  }
 ],
 "metadata": {
  "kernelspec": {
   "display_name": "Python 3",
   "language": "python",
   "name": "python3"
  },
  "language_info": {
   "codemirror_mode": {
    "name": "ipython",
    "version": 3
   },
   "file_extension": ".py",
   "mimetype": "text/x-python",
   "name": "python",
   "nbconvert_exporter": "python",
   "pygments_lexer": "ipython3",
   "version": "3.6.4"
  }
 },
 "nbformat": 4,
 "nbformat_minor": 2
}
