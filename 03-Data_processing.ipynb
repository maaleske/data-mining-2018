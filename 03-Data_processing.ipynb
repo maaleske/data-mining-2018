{
 "cells": [
  {
   "cell_type": "markdown",
   "metadata": {},
   "source": [
    "# Data processing"
   ]
  },
  {
   "cell_type": "markdown",
   "metadata": {},
   "source": [
    "## Parsing\n",
    "\n",
    "Data tends to come in many formats (both syntax and file formats), which all have their idiosyncracies. Some common pitfalls to look out for:\n",
    "\n",
    "- Date formats (DD/MM/YY vs MM/DD/YY vs YYYY/MM/DD vs ...)\n",
    "- Comma vs. period as decimal separator\n",
    "- Non-latin characters\n",
    "- Alphabetic ordering (or lack of it)\n",
    "- Automatic parsing to the wrong type. Can and will result in hard-to-debug arithmetic errors, when e.g. dates are interpreted as values or vice versa (Excel has been infamous for this: 2018-02-16 = 2000)\n",
    "- Categorical values considered continuous\n",
    "\n",
    "## Missing values\n",
    "\n",
    "Samples do not always contain all the variables. In the case of the previous Windermere dataset, if we were to consider each day a separate sample, not all variables would have been measured for each day.\n",
    "\n",
    "Different approaches of dealing with these are:\n",
    "\n",
    "- Choosing a method that can operate without all the values (e.g. decision trees)\n",
    "- Imputation, i.e. filling in the missing values based on the other variables & domain knowledge\n",
    "- Discard samples with missing data\n",
    "\n",
    "Consult your local statistician before to make sure the given treatment is appropriate.\n",
    "\n",
    "## Scaling and encoding\n",
    "\n",
    "Many machine learning methods expect data to be in certain ranges, or do not function well with dissimilar ranges of different variables, which may necessitate numerical scaling or offsetting of numerical variables. Categorical data may also need to be numerically encoded depending on the software used."
   ]
  },
  {
   "cell_type": "markdown",
   "metadata": {},
   "source": [
    "# Feature selection\n",
    "\n",
    "<img src=\"./worms.png\" title=\"Worms on a scanner bed\" width=300>\n",
    "**Q:**\n",
    "> You have a bunch of worms and your goal is to determine their total biomass from the given picture. How do you proceed?"
   ]
  },
  {
   "cell_type": "code",
   "execution_count": null,
   "metadata": {},
   "outputs": [],
   "source": []
  }
 ],
 "metadata": {
  "kernelspec": {
   "display_name": "Python 3",
   "language": "python",
   "name": "python3"
  },
  "language_info": {
   "codemirror_mode": {
    "name": "ipython",
    "version": 3
   },
   "file_extension": ".py",
   "mimetype": "text/x-python",
   "name": "python",
   "nbconvert_exporter": "python",
   "pygments_lexer": "ipython3",
   "version": "3.6.4"
  }
 },
 "nbformat": 4,
 "nbformat_minor": 2
}
