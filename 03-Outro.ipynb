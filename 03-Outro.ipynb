{
 "cells": [
  {
   "cell_type": "markdown",
   "metadata": {},
   "source": [
    "# Think before computing (and measuring)\n",
    "\n",
    "<img src=\"./worms.png\" title=\"Worms on a scanner bed\">\n",
    "(Photo courtesy of Sampsa Kiiskinen)\n",
    "\n",
    "**Q:**\n",
    "> You have a bunch of worms and your goal is to determine their total biomass from the given picture. How do you proceed?"
   ]
  },
  {
   "cell_type": "markdown",
   "metadata": {},
   "source": [
    "# The client's expectation\n",
    "The usual way to determine the biomass for this kind of worm in practice was to measure it's full length and width of a certain part, since then a simple model would give a good estimate on the worms' biomass. \n",
    "\n",
    "This is fine if the data you have is a table of these lengths (assumedly measured by hand):"
   ]
  },
  {
   "cell_type": "code",
   "execution_count": null,
   "metadata": {},
   "outputs": [],
   "source": [
    "from pandas import read_csv\n",
    "worms = read_csv('worm_data.txt'\n",
    "worms"
   ]
  },
  {
   "cell_type": "markdown",
   "metadata": {},
   "source": [
    "(not actual data, just a mockup)\n",
    "\n",
    "The expectation was that these measurements could be then made from the image automatically using software.\n",
    "\n",
    "Here's the image again:\n",
    "\n",
    "<img src=\"./worms.png\" title=\"Worms on a scanner bed\">"
   ]
  },
  {
   "cell_type": "markdown",
   "metadata": {},
   "source": [
    "You can hopefully see the hopelessness of that endeavour. So what then was actually done?\n",
    "\n",
    "Since the worms are actually almost uniformly translucent, the image is actually a measurement of the worms thickness at each point (the pixels getting darker as the worm gets thicker). Taking the sum of all pixel values in the image would then anticorrelate with the total biomass, taking practically no computational effort."
   ]
  },
  {
   "cell_type": "markdown",
   "metadata": {},
   "source": [
    "# The lesson\n",
    "Pick your model wisely."
   ]
  }
 ],
 "metadata": {
  "kernelspec": {
   "display_name": "Python 3",
   "language": "python",
   "name": "python3"
  },
  "language_info": {
   "codemirror_mode": {
    "name": "ipython",
    "version": 3
   },
   "file_extension": ".py",
   "mimetype": "text/x-python",
   "name": "python",
   "nbconvert_exporter": "python",
   "pygments_lexer": "ipython3",
   "version": "3.6.4"
  }
 },
 "nbformat": 4,
 "nbformat_minor": 2
}
