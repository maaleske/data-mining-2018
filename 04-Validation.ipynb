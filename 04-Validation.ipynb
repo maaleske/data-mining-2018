{
 "cells": [
  {
   "cell_type": "markdown",
   "metadata": {},
   "source": [
    "# Validation\n",
    "\n",
    "> There  is  a  growing  realization  that  statistically  significant  claims  in  scientific  publications  are\n",
    "routinely mistaken.  A dataset can be analyzed in so many different ways (with the choices being\n",
    "not just what statistical test to perform but also decisions on what data to exclude or exclude, what\n",
    "measures to study, what interactions to consider, etc.), that very little information is provided by\n",
    "the statement that a study came up with a p < .05 result. The short version is that it’s easy to find a\n",
    "p < . 05 comparison even if nothing is going on, if you look hard enough—and good scientists\n",
    "are skilled at looking hard enough and subsequently coming up with good stories (plausible even to\n",
    "themselves, as well as to their colleagues and peer reviewers) to back up any statistically-significant\n",
    "comparisons they happen to come up with.\n",
    "\n",
    "[A. Gelman and E. Loken, *The garden of forking paths:  Why multiple comparisons can be a problem,\n",
    "even when there is no “fishing expedition” or “p-hacking” and the research\n",
    "hypothesis was posited ahead of time*](http://www.stat.columbia.edu/~gelman/research/unpublished/p_hacking.pdf)\n",
    "\n",
    "\n",
    "Having a model that fits the data is not enough if it has no predictive power; For any dataset there is a model that matches it perfectly but is utterly wrong. Consequently, it is never enough to validate your model on the data used to build it.\n",
    "\n",
    "## The easy (and safe) way\n",
    "Gather new data and test your model on it (without modifying it!)\n",
    "\n",
    "But that's not always practical, so what can we do instead?\n",
    "\n",
    "## Train/test split\n",
    "\n",
    "\n",
    "## Cross-validation\n",
    "## Error metrics"
   ]
  },
  {
   "cell_type": "code",
   "execution_count": null,
   "metadata": {},
   "outputs": [],
   "source": []
  }
 ],
 "metadata": {
  "kernelspec": {
   "display_name": "Python 3",
   "language": "python",
   "name": "python3"
  },
  "language_info": {
   "codemirror_mode": {
    "name": "ipython",
    "version": 3
   },
   "file_extension": ".py",
   "mimetype": "text/x-python",
   "name": "python",
   "nbconvert_exporter": "python",
   "pygments_lexer": "ipython3",
   "version": "3.6.4"
  }
 },
 "nbformat": 4,
 "nbformat_minor": 2
}
