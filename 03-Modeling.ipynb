{
 "cells": [
  {
   "cell_type": "markdown",
   "metadata": {},
   "source": [
    "## Types of data mining\n",
    "\n",
    "[Flowchart for machine learning](http://scikit-learn.org/stable/tutorial/machine_learning_map/index.html)\n",
    "\n",
    "### Classification\n",
    "\n",
    "\n",
    "### Clustering\n",
    "\n",
    "Used to find related subsets of data when the categories are not known beforehand.\n",
    "\n",
    "<img src=\"./cluster_comparison.png\" width=600> \n",
    "\n",
    "### Regression\n",
    "\n",
    "\n",
    "### Anomaly detection\n",
    "\n"
   ]
  },
  {
   "cell_type": "code",
   "execution_count": null,
   "metadata": {},
   "outputs": [],
   "source": []
  }
 ],
 "metadata": {
  "kernelspec": {
   "display_name": "Python 3",
   "language": "python",
   "name": "python3"
  },
  "language_info": {
   "codemirror_mode": {
    "name": "ipython",
    "version": 3
   },
   "file_extension": ".py",
   "mimetype": "text/x-python",
   "name": "python",
   "nbconvert_exporter": "python",
   "pygments_lexer": "ipython3",
   "version": "3.6.4"
  }
 },
 "nbformat": 4,
 "nbformat_minor": 2
}
